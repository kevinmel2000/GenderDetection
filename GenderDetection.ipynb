{
 "cells": [
  {
   "cell_type": "code",
   "execution_count": 6,
   "metadata": {},
   "outputs": [
    {
     "name": "stdout",
     "output_type": "stream",
     "text": [
      "['man']\n"
     ]
    }
   ],
   "source": [
    "# import decision tree pada scikit learn\n",
    "from sklearn import tree\n",
    "\n",
    "# variable classifier dan import decision tree\n",
    "clf = tree.DecisionTreeClassifier()\n",
    "\n",
    "# variable berisi data tinggi, berat dan nomor sepatu [tinggi, berat, nomor sepatu]\n",
    "human_data = [[180, 60, 45], [150, 46, 25], [150, 46, 30], \n",
    "[175, 60, 40], [170, 60, 35], [160, 50, 45], [200, 50, 23], \n",
    "[130, 50, 25]]\n",
    "\n",
    "# variable yang menunjukan gender pada variable human_data\n",
    "gender = ['man', 'woman', 'woman', 'man', 'man', 'woman', 'man', 'woman']\n",
    "\n",
    "# selanjutnya adalah mentrain data-data diatas\n",
    "clf = clf.fit(human_data, gender)\n",
    "\n",
    "# lalu prediksi gender dari data yang di input\n",
    "tinggi= 170\n",
    "berat = 60\n",
    "ukuran_sepatu = 45\n",
    "\n",
    "prediction = clf.predict([[tinggi, berat, ukuran_sepatu]])\n",
    "\n",
    "#lalu print hasilnya\n",
    "print(prediction)"
   ]
  }
 ],
 "metadata": {
  "kernelspec": {
   "display_name": "Python [default]",
   "language": "python",
   "name": "python2"
  },
  "language_info": {
   "codemirror_mode": {
    "name": "ipython",
    "version": 2
   },
   "file_extension": ".py",
   "mimetype": "text/x-python",
   "name": "python",
   "nbconvert_exporter": "python",
   "pygments_lexer": "ipython2",
   "version": "2.7.10"
  }
 },
 "nbformat": 4,
 "nbformat_minor": 2
}
